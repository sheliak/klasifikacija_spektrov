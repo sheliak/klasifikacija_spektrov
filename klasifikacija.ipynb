{
  "nbformat": 4,
  "nbformat_minor": 0,
  "metadata": {
    "colab": {
      "provenance": [],
      "authorship_tag": "ABX9TyM/CLTDTYvEjm4q3+Ti8zbH"
    },
    "kernelspec": {
      "name": "python3",
      "display_name": "Python 3"
    },
    "language_info": {
      "name": "python"
    }
  },
  "cells": [
    {
      "cell_type": "markdown",
      "metadata": {
        "id": "t6RobtPIrDpZ"
      },
      "source": [
        "# Klasifikacija zvezdnih spektrov s strojnim učenjem\n",
        "\n",
        "Delavnica za tabor Gimnazije Bežigrad, junij 2023\n",
        "\n",
        "Seznam poglavij:\n",
        "\n",
        " - [Spoznajmo spektre](#spoznajmo-spektre)\n",
        " - [Metoda glavnih komponent](#pca)\n",
        " - [Nelinearne projekcije](#tsne)\n",
        "\n"
      ]
    },
    {
      "cell_type": "markdown",
      "source": [],
      "metadata": {
        "id": "9nMTyM4tZBuu"
      }
    },
    {
      "cell_type": "markdown",
      "metadata": {
        "id": "-_aLm5-mhOzt"
      },
      "source": [
        "<a id='spoznajmo spektre'></a>\n",
        "## Spoznajmo spektre zvezd\n",
        "\n",
        "### Kaj je spekter\n",
        "\n",
        "### Spektri zvezd\n",
        "\n",
        "### Narišimo spekter\n",
        "\n",
        "Za to vajo imamo na voljo spektre 10 000 različnih zvezd, ki jih je posnel pregled neba GALAH. Na voljo nam je del spektra z valovnimi dolžinami med 655.0 nm in 667.5 nm. Za 52 od teh zvezd imamo podane tudi podatke o temperaturi zvezde, gravitacijskem pospešku na njenem površju in zastopanost kovin v zvezdini atmosferi. Za ostale zvezde so ti parametri še neznani. Za 56 zvezd imamo podane njihove tipe (glej sledečo tabelo). Za ostale zvezde prav tako ne vemo kakšnih tipov so.\n",
        "\n",
        "| Kratica | Tip zvezde | Lastnost |\n",
        "| --- | --- | --- |\n",
        "| MAB | Zvezde z molekularnimi črtami | V hladnejših zvezdah lahko preživijo preproste molekule, kot sta TiO in CN. te vidimo kot široke serije absorpcijskih črt ali pasov. |\n",
        "| BIN | Dvojne zvezde | Zajeli smo svetlobo dveh zvezd in zato vidimo seštevek spektrov dveh zvezd. |\n",
        "| TRI | Trojne zvezde | Vidimo seštevek treh spektrov treh zvezd. Posamezne zvezde so lahko različnih tipov. |\n",
        "| HFR | Vroče, hitro se vrteče zvezde | Spektralne črte so močno razširjene. Šibkejših črt zato ne vidimo.|\n",
        "| HAE | Spektri z emisijo v vodikovi H alpha črti. | Namesto absorpcijske črte vidimo emisijsko črto pri okoli 656 nm. Ali pa kombinacijo emisijske in absorpcijske črte.  |\n",
        "| CMP | Hladne zvezde z malo kovinami | Absorpcijske črte kovin so šibke. Prav tako vodikova črta, saj so te zvezde hladne.|\n",
        "| DIB | Prisotnost medzvezdnih absorpcijskih črt | Plin v prostoru med nami in zvezdo je dodal svoje absorpcijske črte, na primer okoli 661 nm. |\n",
        "\n",
        "Za nekaj zvezd z znanimi tipi ali parametri narišimo njihov spekter. Številka spektra z znanim tipom ali parametri je podana v prvem stolpcu datotek `ucni_set_tipi.txt` in `ucni_set_parametri.txt`."
      ]
    },
    {
      "cell_type": "code",
      "source": [
        "# Dostop do podatkov, ce uporabljas Google colab\n",
        "\n",
        "# Naredimo slovar tipov\n",
        "tipi={}\n",
        "for line in open(''):\n",
        "    if line[0]=='#': continue\n",
        "    spekter, tip=line.split()\n",
        "    if tip in tipi:\n",
        "        tipi[tip].append(spekter)\n",
        "    else:\n",
        "        tipi[tip]=[spekter]\n",
        "\n",
        "# Narisimo spekter nekega tipa ('MAB', 'BIN', 'TRI', 'HFR', 'HAE', 'CMP', 'DIB')\n",
        "\n",
        "hdul=fits.open('https://github.com/sheliak/astroseizmologija/blob/8171ed13dbd4a3576aec06823ba056c9ae8840c8/podatki/hlsp_kepseismic_kepler_phot_kplr002010138-55d_kepler_v1_cor-filt-inp.fits?raw=true')\n",
        "\n",
        "# Dostop do podatkov, ce uporabljas Binder"
      ],
      "metadata": {
        "id": "Flf-0gmHZ3I3"
      },
      "execution_count": null,
      "outputs": []
    }
  ]
}